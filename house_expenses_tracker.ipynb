{
 "cells": [
  {
   "cell_type": "markdown",
   "id": "f347cdb0",
   "metadata": {},
   "source": [
    "# House Construction Expense Tracker\n",
    "\n",
    "This notebook helps you track and analyze expenses for your house construction project. You can:\n",
    "1. Record expenses with categories and subcategories\n",
    "2. View total expenses by category\n",
    "3. Track spending patterns over time\n",
    "4. Visualize expense distribution\n",
    "5. Auto-save data to CSV and Excel\n",
    "6. Create automatic backups\n",
    "\n",
    "All data is stored securely in the `house_expenses_data` folder."
   ]
  },
  {
   "cell_type": "markdown",
   "id": "565d6658",
   "metadata": {},
   "source": [
    "## 1. Import Required Libraries\n",
    "\n",
    "First, let's import the necessary Python libraries for data management and visualization."
   ]
  },
  {
   "cell_type": "code",
   "execution_count": 2,
   "id": "a80f04ca",
   "metadata": {},
   "outputs": [],
   "source": [
    "import pandas as pd\n",
    "import numpy as np\n",
    "import matplotlib.pyplot as plt\n",
    "import seaborn as sns\n",
    "import plotly.express as px\n",
    "import plotly.graph_objects as go\n",
    "from datetime import datetime\n",
    "import shutil\n",
    "\n",
    "# Set the style for better visualizations\n",
    "sns.set_style(\"whitegrid\")\n",
    "sns.set_palette(\"husl\")"
   ]
  },
  {
   "cell_type": "markdown",
   "id": "c70e8659",
   "metadata": {},
   "source": [
    "## 2. Setup Expense Categories and Data Storage\n",
    "\n",
    "Define the expense categories and setup data storage structure."
   ]
  },
  {
   "cell_type": "code",
   "execution_count": null,
   "id": "682bc785",
   "metadata": {},
   "outputs": [
    {
     "name": "stdout",
     "output_type": "stream",
     "text": [
      "Available Expense Categories:\n",
      "\n",
      "Foundation:\n",
      "  - Excavation\n",
      "  - Concrete\n",
      "  - Waterproofing\n",
      "  - Other\n",
      "\n",
      "Structure:\n",
      "  - Framing\n",
      "  - Roof\n",
      "  - Windows\n",
      "  - Doors\n",
      "  - Other\n",
      "\n",
      "Systems:\n",
      "  - Electrical\n",
      "  - Plumbing\n",
      "  - HVAC\n",
      "  - Solar\n",
      "  - Other\n",
      "\n",
      "Interior:\n",
      "  - Flooring\n",
      "  - Walls\n",
      "  - Ceiling\n",
      "  - Paint\n",
      "  - Lighting\n",
      "  - Other\n",
      "\n",
      "Exterior:\n",
      "  - Siding\n",
      "  - Landscaping\n",
      "  - Driveway\n",
      "  - Fencing\n",
      "  - Other\n",
      "\n",
      "Kitchen:\n",
      "  - Cabinets\n",
      "  - Countertops\n",
      "  - Appliances\n",
      "  - Plumbing Fixtures\n",
      "  - Other\n",
      "\n",
      "Bathroom:\n",
      "  - Fixtures\n",
      "  - Tiles\n",
      "  - Vanities\n",
      "  - Shower/Tub\n",
      "  - Other\n",
      "\n",
      "Permits:\n",
      "  - Building Permit\n",
      "  - Inspection Fees\n",
      "  - Other\n",
      "\n",
      "Labor:\n",
      "  - Contractor Fees\n",
      "  - Specialized Labor\n",
      "  - General Labor\n",
      "  - Other\n",
      "\n",
      "Other:\n",
      "  - Materials\n",
      "  - Tools\n",
      "  - Rentals\n",
      "  - Miscellaneous\n"
     ]
    }
   ],
   "source": [
    "import os\n",
    "import pandas as pd\n",
    "\n",
    "# Define the data directory structure\n",
    "DATA_DIR = 'house_expenses_data'\n",
    "CSV_FILE = os.path.join(DATA_DIR, 'expenses.csv')\n",
    "EXCEL_FILE = os.path.join(DATA_DIR, 'house_expenses.xlsx')\n",
    "BACKUP_DIR = os.path.join(DATA_DIR, 'backups')\n",
    "\n",
    "# Create necessary directories\n",
    "os.makedirs(DATA_DIR, exist_ok=True)\n",
    "os.makedirs(BACKUP_DIR, exist_ok=True)\n",
    "\n",
    "# Define expense categories and subcategories\n",
    "expense_categories = {\n",
    "    'Planning': ['House Plan', 'Other Expenses'],\n",
    "    'House Plot': ['Land Cost', 'Land Registration'],\n",
    "    'Building Plan Approval': ['EC market value', 'Property Tax'],\n",
    "    'Initial Setup': ['Basic Things', 'Construction Equipment'],\n",
    "    'Transportation': ['Transportation', 'Coolie (Wood)', 'Permits', 'Personal Transport'],\n",
    "    'Building Material': {\n",
    "        'Wood': ['Material (Wood)'],\n",
    "        'Stone': ['RR Stones', 'Basement Stones', 'kankara', 'Ramapuram Kankara'],\n",
    "        'Sand': ['Sand'],\n",
    "        'Iron': ['Iron', 'Binding wire'],\n",
    "        'Cement': ['Cement'],\n",
    "        'Bricks': ['Bricks']\n",
    "    },\n",
    "    'Construction': ['Coolie', 'Labour charges', 'JCB', 'Rent for Miller & rekulu'],\n",
    "    'Doors & Windows': ['Carpenter'],\n",
    "    'Pooja': ['Bhumi Pooja']\n",
    "}\n",
    "\n",
    "# Create an empty DataFrame to store expenses\n",
    "expenses_df = pd.DataFrame(columns=[\n",
    "    'Date',\n",
    "    'Category',\n",
    "    'Subcategory',\n",
    "    'Description',\n",
    "    'Amount',\n",
    "    'Payment_Method',\n",
    "    'Receipt_Reference'\n",
    "])\n",
    "\n",
    "# Print available categories and subcategories\n",
    "print(\"Available Expense Categories:\")\n",
    "for category, subcategories in expense_categories.items():\n",
    "    print(f\"\\n{category}:\")\n",
    "    for sub in subcategories:\n",
    "        print(f\"  - {sub}\")"
   ]
  },
  {
   "cell_type": "markdown",
   "id": "9124a581",
   "metadata": {},
   "source": [
    "## 3. Data Management Functions\n",
    "\n",
    "Create functions to:\n",
    "- Add new expenses\n",
    "- Save data to CSV and Excel\n",
    "- Load existing data\n",
    "- Create automatic backups"
   ]
  },
  {
   "cell_type": "code",
   "execution_count": 4,
   "id": "28daa1db",
   "metadata": {},
   "outputs": [
    {
     "name": "stdout",
     "output_type": "stream",
     "text": [
      "Loaded existing data successfully.\n"
     ]
    },
    {
     "data": {
      "text/plain": [
       "True"
      ]
     },
     "execution_count": 4,
     "metadata": {},
     "output_type": "execute_result"
    }
   ],
   "source": [
    "def save_data():\n",
    "    \"\"\"\n",
    "    Save the expense data to both CSV and Excel files with automatic backup\n",
    "    \"\"\"\n",
    "    global expenses_df\n",
    "    \n",
    "    # Save to CSV\n",
    "    expenses_df.to_csv(CSV_FILE, index=False)\n",
    "    \n",
    "    # Save to Excel with formatting\n",
    "    with pd.ExcelWriter(EXCEL_FILE, engine='openpyxl') as writer:\n",
    "        expenses_df.to_excel(writer, index=False, sheet_name='Expenses')\n",
    "    \n",
    "    # Create backup with timestamp\n",
    "    timestamp = datetime.now().strftime('%Y%m%d_%H%M%S')\n",
    "    backup_file = os.path.join(BACKUP_DIR, f'expenses_backup_{timestamp}.csv')\n",
    "    shutil.copy2(CSV_FILE, backup_file)\n",
    "\n",
    "def load_data():\n",
    "    \"\"\"\n",
    "    Load existing expense data from CSV file\n",
    "    \"\"\"\n",
    "    global expenses_df\n",
    "    \n",
    "    if os.path.exists(CSV_FILE):\n",
    "        expenses_df = pd.read_csv(CSV_FILE)\n",
    "        expenses_df['Date'] = pd.to_datetime(expenses_df['Date'])\n",
    "        print(\"Loaded existing data successfully.\")\n",
    "        return True\n",
    "    else:\n",
    "        print(\"No existing data file found. Starting with empty dataset.\")\n",
    "        return False\n",
    "\n",
    "def add_expense(date, category, subcategory, description, amount, payment_method, receipt_reference):\n",
    "    \"\"\"\n",
    "    Add a new expense to the dataset\n",
    "    \"\"\"\n",
    "    global expenses_df\n",
    "    \n",
    "    # Validate category and subcategory\n",
    "    if category not in expense_categories:\n",
    "        raise ValueError(f\"Invalid category. Must be one of: {list(expense_categories.keys())}\")\n",
    "    if subcategory not in expense_categories[category]:\n",
    "        raise ValueError(f\"Invalid subcategory for {category}. Must be one of: {expense_categories[category]}\")\n",
    "    \n",
    "    # Create new expense entry\n",
    "    new_expense = pd.DataFrame({\n",
    "        'Date': [pd.to_datetime(date)],\n",
    "        'Category': [category],\n",
    "        'Subcategory': [subcategory],\n",
    "        'Description': [description],\n",
    "        'Amount': [float(amount)],\n",
    "        'Payment_Method': [payment_method],\n",
    "        'Receipt_Reference': [receipt_reference]\n",
    "    })\n",
    "    \n",
    "    # Append to existing data\n",
    "    expenses_df = pd.concat([expenses_df, new_expense], ignore_index=True)\n",
    "    \n",
    "    # Save updated data\n",
    "    save_data()\n",
    "    print(f\"Added new expense: {description} - ${amount:,.2f}\")\n",
    "\n",
    "# Load existing data if available\n",
    "load_data()"
   ]
  },
  {
   "cell_type": "code",
   "execution_count": null,
   "id": "f8610985",
   "metadata": {},
   "outputs": [],
   "source": [
    "def clear_data():\n",
    "    \"\"\"Clear all existing expense data\"\"\"\n",
    "    global expenses_df\n",
    "    expenses_df = pd.DataFrame(columns=[\n",
    "        'Date',\n",
    "        'Category',\n",
    "        'Subcategory',\n",
    "        'Description',\n",
    "        'Amount',\n",
    "        'Payment_Method',\n",
    "        'Receipt_Reference'\n",
    "    ])\n",
    "    save_data()\n",
    "    print(\"All existing data cleared.\")\n",
    "\n",
    "def add_multiple_expenses(expenses_list):\n",
    "    \"\"\"\n",
    "    Add multiple expenses at once\n",
    "    expenses_list: list of dictionaries containing expense details\n",
    "    \"\"\"\n",
    "    for expense in expenses_list:\n",
    "        add_expense(\n",
    "            date=expense['date'],\n",
    "            category=expense['category'],\n",
    "            subcategory=expense['subcategory'],\n",
    "            description=expense['description'],\n",
    "            amount=expense['amount'],\n",
    "            payment_method=expense.get('payment_method', 'Not Specified'),\n",
    "            receipt_reference=expense.get('receipt_reference', '')\n",
    "        )\n",
    "    print(f\"Added {len(expenses_list)} expenses successfully.\")\n",
    "\n",
    "# Clear existing data\n",
    "clear_data()\n",
    "\n",
    "# Prepare the expense data\n",
    "expenses = [\n",
    "    {\"date\": \"2025-03-05\", \"category\": \"Planning\", \"subcategory\": \"House Plan\", \"amount\": 3500, \"description\": \"plan design by zara\"},\n",
    "    {\"date\": \"2024-10-05\", \"category\": \"House Plot\", \"subcategory\": \"Land Cost\", \"amount\": 2500000, \"description\": \"cost for the land\"},\n",
    "    {\"date\": \"2024-10-05\", \"category\": \"House Plot\", \"subcategory\": \"Land Registration\", \"amount\": 60000, \"description\": \"registration for the land\"},\n",
    "    {\"date\": \"2025-03-20\", \"category\": \"Building Plan Approval\", \"subcategory\": \"EC market value\", \"amount\": 700, \"description\": \"sub-register office\"},\n",
    "    {\"date\": \"2025-03-22\", \"category\": \"Building Material\", \"subcategory\": \"Material (Wood)\", \"amount\": 701000, \"description\": \"bought teak\"},\n",
    "    {\"date\": \"2025-04-01\", \"category\": \"Transportation\", \"subcategory\": \"Transportation\", \"amount\": 4000, \"description\": \"transportation of teak to home\"},\n",
    "    {\"date\": \"2025-04-01\", \"category\": \"Transportation\", \"subcategory\": \"Coolie (Wood)\", \"amount\": 4000, \"description\": \"Coolie charges for teak\"},\n",
    "    {\"date\": \"2025-04-01\", \"category\": \"Transportation\", \"subcategory\": \"Permits\", \"amount\": 600, \"description\": \"check post cost\"},\n",
    "    {\"date\": \"2025-04-01\", \"category\": \"Transportation\", \"subcategory\": \"Permits\", \"amount\": 2600, \"description\": \"Permit for transportation of teak\"},\n",
    "    {\"date\": \"2025-04-01\", \"category\": \"Transportation\", \"subcategory\": \"Personal Transport\", \"amount\": 500, \"description\": \"General transportation to pormamilla\"},\n",
    "    {\"date\": \"2025-04-01\", \"category\": \"Planning\", \"subcategory\": \"Other Expenses\", \"amount\": 500, \"description\": \"Given to Poojari\"},\n",
    "    {\"date\": \"2025-04-13\", \"category\": \"Construction\", \"subcategory\": \"Coolie\", \"amount\": 10000, \"description\": \"Advance for the Coolie, construction\"},\n",
    "    {\"date\": \"2025-04-21\", \"category\": \"Building Plan Approval\", \"subcategory\": \"Property Tax\", \"amount\": 8197, \"description\": \"property tax\"},\n",
    "    {\"date\": \"2025-04-23\", \"category\": \"Initial Setup\", \"subcategory\": \"Basic Things\", \"amount\": 1000, \"description\": \"Electrical & water connections\"},\n",
    "    {\"date\": \"2025-04-26\", \"category\": \"Building Material\", \"subcategory\": \"RR Stones\", \"amount\": 4000, \"description\": \"1 tractor\"},\n",
    "    {\"date\": \"2025-04-26\", \"category\": \"Initial Setup\", \"subcategory\": \"Construction Equipment\", \"amount\": 2700, \"description\": \"bought 10 tubs, 2 paralu\"},\n",
    "    {\"date\": \"2025-04-26\", \"category\": \"Construction\", \"subcategory\": \"Bhumi Pooja\", \"amount\": 1530, \"description\": \"vastralu\"},\n",
    "    {\"date\": \"2025-04-09\", \"category\": \"Construction\", \"subcategory\": \"Carpenter\", \"amount\": 4000, \"description\": \"Advance for Aachari\"},\n",
    "    {\"date\": \"2025-04-28\", \"category\": \"Construction\", \"subcategory\": \"Coolie\", \"amount\": 100000, \"description\": \"first payment to masthan, after marking\"},\n",
    "    {\"date\": \"2025-04-28\", \"category\": \"Construction\", \"subcategory\": \"Bhumi Pooja\", \"amount\": 3000, \"description\": \"Bought things for Bhumi Pooja\"},\n",
    "    {\"date\": \"2025-04-29\", \"category\": \"Construction\", \"subcategory\": \"Ramapuram Kankara\", \"amount\": 23200, \"description\": \"6 units kankara before bhumi pooja\"},\n",
    "    {\"date\": \"2025-05-06\", \"category\": \"Construction\", \"subcategory\": \"JCB\", \"amount\": 16000, \"description\": \"rent for JCB\"},\n",
    "    {\"date\": \"2025-05-01\", \"category\": \"Construction\", \"subcategory\": \"kankara\", \"amount\": 4800, \"description\": \"1 tractor 40mm kankara\"},\n",
    "    {\"date\": \"2025-05-01\", \"category\": \"Construction\", \"subcategory\": \"Sand\", \"amount\": 8000, \"description\": \"4 tractors sand\"},\n",
    "    {\"date\": \"2025-05-06\", \"category\": \"Construction\", \"subcategory\": \"Sand\", \"amount\": 4600, \"description\": \"2 tractors sand\"},\n",
    "    {\"date\": \"2025-05-06\", \"category\": \"Construction\", \"subcategory\": \"Basement Stones\", \"amount\": 28100, \"description\": \"7 tractors stones\"},\n",
    "    {\"date\": \"2025-05-05\", \"category\": \"Construction\", \"subcategory\": \"Rent for Miller & rekulu\", \"amount\": 5600, \"description\": \"rent for miller & rekulu\"},\n",
    "    {\"date\": \"2025-05-06\", \"category\": \"Construction\", \"subcategory\": \"Coolie\", \"amount\": 1500, \"description\": \"side charges for 2 extra persons to dug pits\"},\n",
    "    {\"date\": \"2025-04-30\", \"category\": \"Construction\", \"subcategory\": \"Bhumi Pooja\", \"amount\": 10000, \"description\": \"Expenses on the day of Bhumi Pooja\"},\n",
    "    {\"date\": \"2025-05-02\", \"category\": \"Initial Setup\", \"subcategory\": \"Basic Things\", \"amount\": 1500, \"description\": \"Pipe for water\"},\n",
    "    {\"date\": \"2025-05-04\", \"category\": \"Initial Setup\", \"subcategory\": \"Basic Things\", \"amount\": 1200, \"description\": \"wire for vibration\"},\n",
    "    {\"date\": \"2025-05-10\", \"category\": \"Construction\", \"subcategory\": \"Basement Stones\", \"amount\": 20000, \"description\": \"5 tractor stones\"},\n",
    "    {\"date\": \"2025-05-09\", \"category\": \"Construction\", \"subcategory\": \"Labour charges\", \"amount\": 2000, \"description\": \"Labour charge while recertification of iron\"},\n",
    "    {\"date\": \"2025-05-09\", \"category\": \"Construction\", \"subcategory\": \"Iron\", \"amount\": 95000, \"description\": \"Total iron cost 310677, paid first installement through PhonePe\"},\n",
    "    {\"date\": \"2025-05-10\", \"category\": \"Construction\", \"subcategory\": \"Coolie\", \"amount\": 1000, \"description\": \"Gave to Mestri while gng to Delhi, for general expenditure\"},\n",
    "    {\"date\": \"2025-05-13\", \"category\": \"Construction\", \"subcategory\": \"Basement Stones\", \"amount\": 12000, \"description\": \"3 trips stones\"},\n",
    "    {\"date\": \"2025-05-16\", \"category\": \"Construction\", \"subcategory\": \"Coolie\", \"amount\": 1000, \"description\": \"general expenses\"},\n",
    "    {\"date\": \"2025-05-19\", \"category\": \"Construction\", \"subcategory\": \"Coolie\", \"amount\": 5000, \"description\": \"front side basement guntha with coolies\"},\n",
    "    {\"date\": \"2025-05-15\", \"category\": \"Construction\", \"subcategory\": \"Iron\", \"amount\": 55000, \"description\": \"Iron installement second\"},\n",
    "    {\"date\": \"2025-05-20\", \"category\": \"Construction\", \"subcategory\": \"Iron\", \"amount\": 60677, \"description\": \"Third installement\"},\n",
    "    {\"date\": \"2025-05-20\", \"category\": \"Construction\", \"subcategory\": \"Cement\", \"amount\": 50000, \"description\": \"Ramco cement first installment\"},\n",
    "    {\"date\": \"2025-05-23\", \"category\": \"Construction\", \"subcategory\": \"Coolie\", \"amount\": 40000, \"description\": \"Gave to mastan; Phonepe\"},\n",
    "    {\"date\": \"2025-06-01\", \"category\": \"Construction\", \"subcategory\": \"Coolie\", \"amount\": 50000, \"description\": \"Gave to kamal basha; cred\"},\n",
    "    {\"date\": \"2025-05-24\", \"category\": \"Construction\", \"subcategory\": \"kankara\", \"amount\": 8000, \"description\": \"1 tractor kankara\"},\n",
    "    {\"date\": \"2025-05-26\", \"category\": \"Construction\", \"subcategory\": \"Ramapuram Kankara\", \"amount\": 13700, \"description\": \"3 units\"},\n",
    "    {\"date\": \"2025-05-09\", \"category\": \"Construction\", \"subcategory\": \"Sand\", \"amount\": 4600, \"description\": \"2 tractors sand\"},\n",
    "    {\"date\": \"2025-05-22\", \"category\": \"Construction\", \"subcategory\": \"Sand\", \"amount\": 4600, \"description\": \"2 tractors sand\"},\n",
    "    {\"date\": \"2025-05-28\", \"category\": \"Construction\", \"subcategory\": \"Sand\", \"amount\": 2000, \"description\": \"1 tractor\"},\n",
    "    {\"date\": \"2025-05-29\", \"category\": \"Construction\", \"subcategory\": \"Sand\", \"amount\": 4000, \"description\": \"2 tractors sand\"},\n",
    "    {\"date\": \"2025-05-31\", \"category\": \"Construction\", \"subcategory\": \"Sand\", \"amount\": 4000, \"description\": \"2 tractors sand\"},\n",
    "    {\"date\": \"2025-05-28\", \"category\": \"Construction\", \"subcategory\": \"Rent for Miller & rekulu\", \"amount\": 2400, \"description\": \"rent\"},\n",
    "    {\"date\": \"2025-05-29\", \"category\": \"Construction\", \"subcategory\": \"Rent for Miller & rekulu\", \"amount\": 6000, \"description\": \"rent\"},\n",
    "    {\"date\": \"2025-05-24\", \"category\": \"Construction\", \"subcategory\": \"Coolie (extra charges)\", \"amount\": 1200, \"description\": \"cost for food, while doing plinth beam\"},\n",
    "    {\"date\": \"2025-05-22\", \"category\": \"Construction\", \"subcategory\": \"Iron\", \"amount\": 3100, \"description\": \"Binding wire\"},\n",
    "    {\"date\": \"2025-05-29\", \"category\": \"Construction\", \"subcategory\": \"Iron\", \"amount\": 75000, \"description\": \"Iron ; phonepe\"},\n",
    "    {\"date\": \"2025-05-29\", \"category\": \"Construction\", \"subcategory\": \"Cement\", \"amount\": 20000, \"description\": \"cement; Phonepe\"},\n",
    "    {\"date\": \"2025-05-21\", \"category\": \"Construction\", \"subcategory\": \"Bricks\", \"amount\": 6000, \"description\": \"fly ash bricks\"}\n",
    "]\n",
    "\n",
    "# Add all expenses\n",
    "add_multiple_expenses(expenses)"
   ]
  },
  {
   "cell_type": "markdown",
   "id": "51ff1965",
   "metadata": {},
   "source": [
    "## 4. Expense Analysis and Visualization\n",
    "\n",
    "Functions to analyze expenses and create visualizations for better insights."
   ]
  },
  {
   "cell_type": "code",
   "execution_count": null,
   "id": "15cd015c",
   "metadata": {},
   "outputs": [],
   "source": [
    "# Clear existing data\n",
    "expenses_df = pd.DataFrame(columns=[\n",
    "    'Date',\n",
    "    'Category',\n",
    "    'Subcategory',\n",
    "    'Description',\n",
    "    'Amount',\n",
    "    'Payment_Method',\n",
    "    'Note'\n",
    "])\n",
    "\n",
    "def bulk_add_expenses(expenses_data):\n",
    "    \"\"\"\n",
    "    Add multiple expenses at once\n",
    "    expenses_data: List of dictionaries containing expense details\n",
    "    \"\"\"\n",
    "    global expenses_df\n",
    "    \n",
    "    for expense in expenses_data:\n",
    "        # Create new expense entry\n",
    "        new_expense = pd.DataFrame({\n",
    "            'Date': [pd.to_datetime(expense['date'])],\n",
    "            'Category': [expense['category']],\n",
    "            'Subcategory': [expense['subcategory']],\n",
    "            'Description': [expense['description']],\n",
    "            'Amount': [float(expense['amount'])],\n",
    "            'Payment_Method': [expense.get('payment_method', 'Not specified')],\n",
    "            'Note': [expense['note']]\n",
    "        })\n",
    "        \n",
    "        # Append to existing data\n",
    "        expenses_df = pd.concat([expenses_df, new_expense], ignore_index=True)\n",
    "    \n",
    "    # Save updated data\n",
    "    save_data()\n",
    "    print(f\"Added {len(expenses_data)} expenses successfully.\")\n",
    "\n",
    "# Define all expenses\n",
    "expenses_data = [\n",
    "    {\n",
    "        'date': '2024-10-05',\n",
    "        'category': 'House Plot',\n",
    "        'subcategory': 'Land Cost',\n",
    "        'description': 'Land purchase',\n",
    "        'amount': 2500000,\n",
    "        'note': 'cost for the land'\n",
    "    },\n",
    "    {\n",
    "        'date': '2024-10-05',\n",
    "        'category': 'House Plot',\n",
    "        'subcategory': 'Land Registration',\n",
    "        'description': 'Land registration fees',\n",
    "        'amount': 60000,\n",
    "        'note': 'registration for the land'\n",
    "    },\n",
    "    {\n",
    "        'date': '2025-03-05',\n",
    "        'category': 'Planning',\n",
    "        'subcategory': 'House Plan',\n",
    "        'description': 'House plan design',\n",
    "        'amount': 3500,\n",
    "        'payment_method': 'Cash',\n",
    "        'note': 'plan design by zara'\n",
    "    },\n",
    "    {\n",
    "        'date': '2025-03-20',\n",
    "        'category': 'Building Plan Approval',\n",
    "        'subcategory': 'EC market value',\n",
    "        'description': 'EC approval',\n",
    "        'amount': 700,\n",
    "        'note': 'sub-register office'\n",
    "    },\n",
    "    {\n",
    "        'date': '2025-03-22',\n",
    "        'category': 'Building Material',\n",
    "        'subcategory': 'Material (Wood)',\n",
    "        'description': 'Teak wood purchase',\n",
    "        'amount': 701000,\n",
    "        'note': 'bought teak'\n",
    "    }\n",
    "]\n",
    "\n",
    "# Add more expenses here...\n",
    "more_expenses = [\n",
    "    {\n",
    "        'date': '2025-04-01',\n",
    "        'category': 'Transportation',\n",
    "        'subcategory': 'Transportation',\n",
    "        'description': 'Teak transportation',\n",
    "        'amount': 4000,\n",
    "        'note': 'transportation of teak to home'\n",
    "    },\n",
    "    {\n",
    "        'date': '2025-04-01',\n",
    "        'category': 'Transportation',\n",
    "        'subcategory': 'Coolie (Wood)',\n",
    "        'description': 'Labor charges for teak',\n",
    "        'amount': 4000,\n",
    "        'note': 'Coolie charges for teak'\n",
    "    }\n",
    "    # ... continue adding all other expenses\n",
    "]\n",
    "\n",
    "expenses_data.extend(more_expenses)\n",
    "\n",
    "# Add all the expenses\n",
    "bulk_add_expenses(expenses_data)\n",
    "\n",
    "def format_indian_currency(amount):\n",
    "    \"\"\"Format amount in Indian Rupees with proper comma placement\"\"\"\n",
    "    # Convert to string with 2 decimal places\n",
    "    str_amount = f\"{amount:,.2f}\"\n",
    "    \n",
    "    # Split into whole and decimal parts\n",
    "    parts = str_amount.split('.')\n",
    "    whole = parts[0].replace(',', '')\n",
    "    decimal = parts[1]\n",
    "    \n",
    "    # Add commas for Indian number system\n",
    "    result = ''\n",
    "    # First comma after 3 digits from right\n",
    "    if len(whole) > 3:\n",
    "        result = ',' + whole[-3:]\n",
    "        whole = whole[:-3]\n",
    "        # Then commas after every 2 digits\n",
    "        while whole:\n",
    "            if len(whole) > 2:\n",
    "                result = ',' + whole[-2:] + result\n",
    "                whole = whole[:-2]\n",
    "            else:\n",
    "                result = whole + result\n",
    "                whole = ''\n",
    "    else:\n",
    "        result = whole\n",
    "    \n",
    "    # Add decimal part and currency symbol\n",
    "    return f\"₹{result}.{decimal}\"\n",
    "\n",
    "def analyze_expenses():\n",
    "    \"\"\"\n",
    "    Analyze expenses and show summary statistics\n",
    "    \"\"\"\n",
    "    if expenses_df.empty:\n",
    "        print(\"No expenses data available.\")\n",
    "        return\n",
    "        \n",
    "    print(\"\\nEXPENSE ANALYSIS\")\n",
    "    print(\"=\" * 50)\n",
    "    \n",
    "    # Calculate total expenses\n",
    "    total = expenses_df['Amount'].sum()\n",
    "    print(f\"\\nTotal Expenses: {format_indian_currency(total)}\")\n",
    "    \n",
    "    # Expenses by category\n",
    "    print(\"\\nExpenses by Category:\")\n",
    "    category_totals = expenses_df.groupby('Category')['Amount'].sum().sort_values(ascending=False)\n",
    "    for category, amount in category_totals.items():\n",
    "        percentage = (amount / total) * 100\n",
    "        print(f\"{category}: {format_indian_currency(amount)} ({percentage:.1f}%)\")\n",
    "    \n",
    "    # Monthly summary\n",
    "    print(\"\\nMonthly Expense Summary:\")\n",
    "    monthly_expenses = expenses_df.set_index('Date').resample('ME')['Amount'].sum()\n",
    "    for date, amount in monthly_expenses.items():\n",
    "        print(f\"{date.strftime('%B %Y')}: {format_indian_currency(amount)}\")\n",
    "\n",
    "def visualize_expenses():\n",
    "    \"\"\"\n",
    "    Create visualizations for expense analysis\n",
    "    \"\"\"\n",
    "    if expenses_df.empty:\n",
    "        print(\"No expenses data available for visualization.\")\n",
    "        return\n",
    "    \n",
    "    # Create a pie chart for category distribution\n",
    "    fig1 = px.pie(expenses_df, values='Amount', names='Category', \n",
    "                  title='Expense Distribution by Category',\n",
    "                  hover_data=['Amount'],\n",
    "                  custom_data=['Amount'])\n",
    "    fig1.update_traces(hovertemplate='Category: %{label}<br>Amount: ₹%{customdata:,.2f}<br>Percentage: %{percent:.1%}')\n",
    "    fig1.show()\n",
    "    \n",
    "    # Create a bar chart for subcategory distribution\n",
    "    category_sub = expenses_df.groupby(['Category', 'Subcategory'])['Amount'].sum().reset_index()\n",
    "    fig2 = px.bar(category_sub, x='Category', y='Amount', color='Subcategory',\n",
    "                  title='Expenses by Category and Subcategory')\n",
    "    fig2.update_layout(yaxis_title=\"Amount (₹)\")\n",
    "    fig2.update_traces(hovertemplate='Category: %{x}<br>Subcategory: %{customdata}<br>Amount: ₹%{y:,.2f}')\n",
    "    fig2.show()\n",
    "    \n",
    "    # Create a line chart for cumulative expenses over time\n",
    "    expenses_df_sorted = expenses_df.sort_values('Date')\n",
    "    expenses_df_sorted['Cumulative'] = expenses_df_sorted['Amount'].cumsum()\n",
    "    fig3 = px.line(expenses_df_sorted, x='Date', y='Cumulative',\n",
    "                   title='Cumulative Expenses Over Time')\n",
    "    fig3.update_layout(yaxis_title=\"Cumulative Amount (₹)\")\n",
    "    fig3.update_traces(hovertemplate='Date: %{x}<br>Cumulative Amount: ₹%{y:,.2f}')\n",
    "    fig3.show()\n",
    "\n",
    "def generate_monthly_report():\n",
    "    \"\"\"\n",
    "    Generate a detailed monthly report of expenses\n",
    "    \"\"\"\n",
    "    if expenses_df.empty:\n",
    "        print(\"No expenses data available for report generation.\")\n",
    "        return\n",
    "    \n",
    "    current_month = pd.Timestamp.now().strftime('%B %Y')\n",
    "    \n",
    "    print(f\"\\nMONTHLY EXPENSE REPORT - {current_month}\")\n",
    "    print(\"=\" * 50)\n",
    "    \n",
    "    # Get current month's expenses\n",
    "    current_month_mask = expenses_df['Date'].dt.strftime('%B %Y') == current_month\n",
    "    month_expenses = expenses_df[current_month_mask]\n",
    "    \n",
    "    if month_expenses.empty:\n",
    "        print(\"\\nNo expenses recorded for the current month.\")\n",
    "        return\n",
    "    \n",
    "    # Total expenses this month\n",
    "    total = month_expenses['Amount'].sum()\n",
    "    print(f\"\\nTotal Expenses This Month: {format_indian_currency(total)}\")\n",
    "    \n",
    "    # Expenses by category this month\n",
    "    print(\"\\nExpenses by Category:\")\n",
    "    category_totals = month_expenses.groupby('Category')['Amount'].sum()\n",
    "    for category, amount in category_totals.items():\n",
    "        percentage = (amount / total) * 100\n",
    "        print(f\"{category}: {format_indian_currency(amount)} ({percentage:.1f}%)\")\n",
    "    \n",
    "    # Detailed expense list\n",
    "    print(\"\\nDetailed Expense List:\")\n",
    "    for _, expense in month_expenses.iterrows():\n",
    "        print(\"-\" * 100)\n",
    "        print(f\"Date: {expense['Date'].strftime('%Y-%m-%d')}\")\n",
    "        print(f\"Category: {expense['Category']} - {expense['Subcategory']}\")\n",
    "        print(f\"Description: {expense['Description']}\")\n",
    "        print(f\"Amount: {format_indian_currency(expense['Amount'])}\")\n",
    "        print(f\"Payment Method: {expense['Payment_Method']}\")\n",
    "        if pd.notna(expense['Note']):\n",
    "            print(f\"Note: {expense['Note']}\")\n",
    "\n",
    "# Re-run the analysis with Indian currency formatting\n",
    "print(\"Running analysis with Indian currency formatting...\")\n",
    "analyze_expenses()\n",
    "visualize_expenses()\n",
    "generate_monthly_report()"
   ]
  },
  {
   "cell_type": "markdown",
   "id": "41b2e377",
   "metadata": {},
   "source": [
    "## 5. Usage Examples\n",
    "\n",
    "Here are some examples of how to use the expense tracker:"
   ]
  },
  {
   "cell_type": "code",
   "execution_count": null,
   "id": "85d89523",
   "metadata": {},
   "outputs": [
    {
     "name": "stdout",
     "output_type": "stream",
     "text": [
      "Added new expense: Initial foundation concrete work - $15,000.00\n",
      "Added new expense: Building permit application fee - $2,500.00\n",
      "\n",
      "EXPENSE ANALYSIS\n",
      "==================================================\n",
      "\n",
      "Total Expenses: $35,000.00\n",
      "\n",
      "Expenses by Category:\n",
      "Foundation: $30,000.00 (85.7%)\n",
      "Permits: $5,000.00 (14.3%)\n",
      "\n",
      "Monthly Expense Summary:\n",
      "June 2025: $35,000.00\n"
     ]
    },
    {
     "name": "stderr",
     "output_type": "stream",
     "text": [
      "C:\\Users\\peruguyadav\\AppData\\Local\\Temp\\ipykernel_22624\\1366325746.py:16: FutureWarning: 'M' is deprecated and will be removed in a future version, please use 'ME' instead.\n",
      "  monthly_expenses = expenses_df.set_index('Date').resample('M')['Amount'].sum()\n"
     ]
    },
    {
     "data": {
      "application/vnd.plotly.v1+json": {
       "config": {
        "plotlyServerURL": "https://plot.ly"
       },
       "data": [
        {
         "domain": {
          "x": [
           0,
           1
          ],
          "y": [
           0,
           1
          ]
         },
         "hovertemplate": "Category=%{label}<br>Amount=%{value}<extra></extra>",
         "labels": [
          "Foundation",
          "Permits",
          "Foundation",
          "Permits"
         ],
         "legendgroup": "",
         "name": "",
         "showlegend": true,
         "type": "pie",
         "values": {
          "bdata": "AAAAAABMzUAAAAAAAIijQAAAAAAATM1AAAAAAACIo0A=",
          "dtype": "f8"
         }
        }
       ],
       "layout": {
        "legend": {
         "tracegroupgap": 0
        },
        "template": {
         "data": {
          "bar": [
           {
            "error_x": {
             "color": "#2a3f5f"
            },
            "error_y": {
             "color": "#2a3f5f"
            },
            "marker": {
             "line": {
              "color": "#E5ECF6",
              "width": 0.5
             },
             "pattern": {
              "fillmode": "overlay",
              "size": 10,
              "solidity": 0.2
             }
            },
            "type": "bar"
           }
          ],
          "barpolar": [
           {
            "marker": {
             "line": {
              "color": "#E5ECF6",
              "width": 0.5
             },
             "pattern": {
              "fillmode": "overlay",
              "size": 10,
              "solidity": 0.2
             }
            },
            "type": "barpolar"
           }
          ],
          "carpet": [
           {
            "aaxis": {
             "endlinecolor": "#2a3f5f",
             "gridcolor": "white",
             "linecolor": "white",
             "minorgridcolor": "white",
             "startlinecolor": "#2a3f5f"
            },
            "baxis": {
             "endlinecolor": "#2a3f5f",
             "gridcolor": "white",
             "linecolor": "white",
             "minorgridcolor": "white",
             "startlinecolor": "#2a3f5f"
            },
            "type": "carpet"
           }
          ],
          "choropleth": [
           {
            "colorbar": {
             "outlinewidth": 0,
             "ticks": ""
            },
            "type": "choropleth"
           }
          ],
          "contour": [
           {
            "colorbar": {
             "outlinewidth": 0,
             "ticks": ""
            },
            "colorscale": [
             [
              0,
              "#0d0887"
             ],
             [
              0.1111111111111111,
              "#46039f"
             ],
             [
              0.2222222222222222,
              "#7201a8"
             ],
             [
              0.3333333333333333,
              "#9c179e"
             ],
             [
              0.4444444444444444,
              "#bd3786"
             ],
             [
              0.5555555555555556,
              "#d8576b"
             ],
             [
              0.6666666666666666,
              "#ed7953"
             ],
             [
              0.7777777777777778,
              "#fb9f3a"
             ],
             [
              0.8888888888888888,
              "#fdca26"
             ],
             [
              1,
              "#f0f921"
             ]
            ],
            "type": "contour"
           }
          ],
          "contourcarpet": [
           {
            "colorbar": {
             "outlinewidth": 0,
             "ticks": ""
            },
            "type": "contourcarpet"
           }
          ],
          "heatmap": [
           {
            "colorbar": {
             "outlinewidth": 0,
             "ticks": ""
            },
            "colorscale": [
             [
              0,
              "#0d0887"
             ],
             [
              0.1111111111111111,
              "#46039f"
             ],
             [
              0.2222222222222222,
              "#7201a8"
             ],
             [
              0.3333333333333333,
              "#9c179e"
             ],
             [
              0.4444444444444444,
              "#bd3786"
             ],
             [
              0.5555555555555556,
              "#d8576b"
             ],
             [
              0.6666666666666666,
              "#ed7953"
             ],
             [
              0.7777777777777778,
              "#fb9f3a"
             ],
             [
              0.8888888888888888,
              "#fdca26"
             ],
             [
              1,
              "#f0f921"
             ]
            ],
            "type": "heatmap"
           }
          ],
          "histogram": [
           {
            "marker": {
             "pattern": {
              "fillmode": "overlay",
              "size": 10,
              "solidity": 0.2
             }
            },
            "type": "histogram"
           }
          ],
          "histogram2d": [
           {
            "colorbar": {
             "outlinewidth": 0,
             "ticks": ""
            },
            "colorscale": [
             [
              0,
              "#0d0887"
             ],
             [
              0.1111111111111111,
              "#46039f"
             ],
             [
              0.2222222222222222,
              "#7201a8"
             ],
             [
              0.3333333333333333,
              "#9c179e"
             ],
             [
              0.4444444444444444,
              "#bd3786"
             ],
             [
              0.5555555555555556,
              "#d8576b"
             ],
             [
              0.6666666666666666,
              "#ed7953"
             ],
             [
              0.7777777777777778,
              "#fb9f3a"
             ],
             [
              0.8888888888888888,
              "#fdca26"
             ],
             [
              1,
              "#f0f921"
             ]
            ],
            "type": "histogram2d"
           }
          ],
          "histogram2dcontour": [
           {
            "colorbar": {
             "outlinewidth": 0,
             "ticks": ""
            },
            "colorscale": [
             [
              0,
              "#0d0887"
             ],
             [
              0.1111111111111111,
              "#46039f"
             ],
             [
              0.2222222222222222,
              "#7201a8"
             ],
             [
              0.3333333333333333,
              "#9c179e"
             ],
             [
              0.4444444444444444,
              "#bd3786"
             ],
             [
              0.5555555555555556,
              "#d8576b"
             ],
             [
              0.6666666666666666,
              "#ed7953"
             ],
             [
              0.7777777777777778,
              "#fb9f3a"
             ],
             [
              0.8888888888888888,
              "#fdca26"
             ],
             [
              1,
              "#f0f921"
             ]
            ],
            "type": "histogram2dcontour"
           }
          ],
          "mesh3d": [
           {
            "colorbar": {
             "outlinewidth": 0,
             "ticks": ""
            },
            "type": "mesh3d"
           }
          ],
          "parcoords": [
           {
            "line": {
             "colorbar": {
              "outlinewidth": 0,
              "ticks": ""
             }
            },
            "type": "parcoords"
           }
          ],
          "pie": [
           {
            "automargin": true,
            "type": "pie"
           }
          ],
          "scatter": [
           {
            "fillpattern": {
             "fillmode": "overlay",
             "size": 10,
             "solidity": 0.2
            },
            "type": "scatter"
           }
          ],
          "scatter3d": [
           {
            "line": {
             "colorbar": {
              "outlinewidth": 0,
              "ticks": ""
             }
            },
            "marker": {
             "colorbar": {
              "outlinewidth": 0,
              "ticks": ""
             }
            },
            "type": "scatter3d"
           }
          ],
          "scattercarpet": [
           {
            "marker": {
             "colorbar": {
              "outlinewidth": 0,
              "ticks": ""
             }
            },
            "type": "scattercarpet"
           }
          ],
          "scattergeo": [
           {
            "marker": {
             "colorbar": {
              "outlinewidth": 0,
              "ticks": ""
             }
            },
            "type": "scattergeo"
           }
          ],
          "scattergl": [
           {
            "marker": {
             "colorbar": {
              "outlinewidth": 0,
              "ticks": ""
             }
            },
            "type": "scattergl"
           }
          ],
          "scattermap": [
           {
            "marker": {
             "colorbar": {
              "outlinewidth": 0,
              "ticks": ""
             }
            },
            "type": "scattermap"
           }
          ],
          "scattermapbox": [
           {
            "marker": {
             "colorbar": {
              "outlinewidth": 0,
              "ticks": ""
             }
            },
            "type": "scattermapbox"
           }
          ],
          "scatterpolar": [
           {
            "marker": {
             "colorbar": {
              "outlinewidth": 0,
              "ticks": ""
             }
            },
            "type": "scatterpolar"
           }
          ],
          "scatterpolargl": [
           {
            "marker": {
             "colorbar": {
              "outlinewidth": 0,
              "ticks": ""
             }
            },
            "type": "scatterpolargl"
           }
          ],
          "scatterternary": [
           {
            "marker": {
             "colorbar": {
              "outlinewidth": 0,
              "ticks": ""
             }
            },
            "type": "scatterternary"
           }
          ],
          "surface": [
           {
            "colorbar": {
             "outlinewidth": 0,
             "ticks": ""
            },
            "colorscale": [
             [
              0,
              "#0d0887"
             ],
             [
              0.1111111111111111,
              "#46039f"
             ],
             [
              0.2222222222222222,
              "#7201a8"
             ],
             [
              0.3333333333333333,
              "#9c179e"
             ],
             [
              0.4444444444444444,
              "#bd3786"
             ],
             [
              0.5555555555555556,
              "#d8576b"
             ],
             [
              0.6666666666666666,
              "#ed7953"
             ],
             [
              0.7777777777777778,
              "#fb9f3a"
             ],
             [
              0.8888888888888888,
              "#fdca26"
             ],
             [
              1,
              "#f0f921"
             ]
            ],
            "type": "surface"
           }
          ],
          "table": [
           {
            "cells": {
             "fill": {
              "color": "#EBF0F8"
             },
             "line": {
              "color": "white"
             }
            },
            "header": {
             "fill": {
              "color": "#C8D4E3"
             },
             "line": {
              "color": "white"
             }
            },
            "type": "table"
           }
          ]
         },
         "layout": {
          "annotationdefaults": {
           "arrowcolor": "#2a3f5f",
           "arrowhead": 0,
           "arrowwidth": 1
          },
          "autotypenumbers": "strict",
          "coloraxis": {
           "colorbar": {
            "outlinewidth": 0,
            "ticks": ""
           }
          },
          "colorscale": {
           "diverging": [
            [
             0,
             "#8e0152"
            ],
            [
             0.1,
             "#c51b7d"
            ],
            [
             0.2,
             "#de77ae"
            ],
            [
             0.3,
             "#f1b6da"
            ],
            [
             0.4,
             "#fde0ef"
            ],
            [
             0.5,
             "#f7f7f7"
            ],
            [
             0.6,
             "#e6f5d0"
            ],
            [
             0.7,
             "#b8e186"
            ],
            [
             0.8,
             "#7fbc41"
            ],
            [
             0.9,
             "#4d9221"
            ],
            [
             1,
             "#276419"
            ]
           ],
           "sequential": [
            [
             0,
             "#0d0887"
            ],
            [
             0.1111111111111111,
             "#46039f"
            ],
            [
             0.2222222222222222,
             "#7201a8"
            ],
            [
             0.3333333333333333,
             "#9c179e"
            ],
            [
             0.4444444444444444,
             "#bd3786"
            ],
            [
             0.5555555555555556,
             "#d8576b"
            ],
            [
             0.6666666666666666,
             "#ed7953"
            ],
            [
             0.7777777777777778,
             "#fb9f3a"
            ],
            [
             0.8888888888888888,
             "#fdca26"
            ],
            [
             1,
             "#f0f921"
            ]
           ],
           "sequentialminus": [
            [
             0,
             "#0d0887"
            ],
            [
             0.1111111111111111,
             "#46039f"
            ],
            [
             0.2222222222222222,
             "#7201a8"
            ],
            [
             0.3333333333333333,
             "#9c179e"
            ],
            [
             0.4444444444444444,
             "#bd3786"
            ],
            [
             0.5555555555555556,
             "#d8576b"
            ],
            [
             0.6666666666666666,
             "#ed7953"
            ],
            [
             0.7777777777777778,
             "#fb9f3a"
            ],
            [
             0.8888888888888888,
             "#fdca26"
            ],
            [
             1,
             "#f0f921"
            ]
           ]
          },
          "colorway": [
           "#636efa",
           "#EF553B",
           "#00cc96",
           "#ab63fa",
           "#FFA15A",
           "#19d3f3",
           "#FF6692",
           "#B6E880",
           "#FF97FF",
           "#FECB52"
          ],
          "font": {
           "color": "#2a3f5f"
          },
          "geo": {
           "bgcolor": "white",
           "lakecolor": "white",
           "landcolor": "#E5ECF6",
           "showlakes": true,
           "showland": true,
           "subunitcolor": "white"
          },
          "hoverlabel": {
           "align": "left"
          },
          "hovermode": "closest",
          "mapbox": {
           "style": "light"
          },
          "paper_bgcolor": "white",
          "plot_bgcolor": "#E5ECF6",
          "polar": {
           "angularaxis": {
            "gridcolor": "white",
            "linecolor": "white",
            "ticks": ""
           },
           "bgcolor": "#E5ECF6",
           "radialaxis": {
            "gridcolor": "white",
            "linecolor": "white",
            "ticks": ""
           }
          },
          "scene": {
           "xaxis": {
            "backgroundcolor": "#E5ECF6",
            "gridcolor": "white",
            "gridwidth": 2,
            "linecolor": "white",
            "showbackground": true,
            "ticks": "",
            "zerolinecolor": "white"
           },
           "yaxis": {
            "backgroundcolor": "#E5ECF6",
            "gridcolor": "white",
            "gridwidth": 2,
            "linecolor": "white",
            "showbackground": true,
            "ticks": "",
            "zerolinecolor": "white"
           },
           "zaxis": {
            "backgroundcolor": "#E5ECF6",
            "gridcolor": "white",
            "gridwidth": 2,
            "linecolor": "white",
            "showbackground": true,
            "ticks": "",
            "zerolinecolor": "white"
           }
          },
          "shapedefaults": {
           "line": {
            "color": "#2a3f5f"
           }
          },
          "ternary": {
           "aaxis": {
            "gridcolor": "white",
            "linecolor": "white",
            "ticks": ""
           },
           "baxis": {
            "gridcolor": "white",
            "linecolor": "white",
            "ticks": ""
           },
           "bgcolor": "#E5ECF6",
           "caxis": {
            "gridcolor": "white",
            "linecolor": "white",
            "ticks": ""
           }
          },
          "title": {
           "x": 0.05
          },
          "xaxis": {
           "automargin": true,
           "gridcolor": "white",
           "linecolor": "white",
           "ticks": "",
           "title": {
            "standoff": 15
           },
           "zerolinecolor": "white",
           "zerolinewidth": 2
          },
          "yaxis": {
           "automargin": true,
           "gridcolor": "white",
           "linecolor": "white",
           "ticks": "",
           "title": {
            "standoff": 15
           },
           "zerolinecolor": "white",
           "zerolinewidth": 2
          }
         }
        },
        "title": {
         "text": "Expense Distribution by Category"
        }
       }
      }
     },
     "metadata": {},
     "output_type": "display_data"
    },
    {
     "data": {
      "application/vnd.plotly.v1+json": {
       "config": {
        "plotlyServerURL": "https://plot.ly"
       },
       "data": [
        {
         "hovertemplate": "Subcategory=Concrete<br>Category=%{x}<br>Amount=%{y}<extra></extra>",
         "legendgroup": "Concrete",
         "marker": {
          "color": "#636efa",
          "pattern": {
           "shape": ""
          }
         },
         "name": "Concrete",
         "orientation": "v",
         "showlegend": true,
         "textposition": "auto",
         "type": "bar",
         "x": [
          "Foundation"
         ],
         "xaxis": "x",
         "y": {
          "bdata": "AAAAAABM3UA=",
          "dtype": "f8"
         },
         "yaxis": "y"
        },
        {
         "hovertemplate": "Subcategory=Building Permit<br>Category=%{x}<br>Amount=%{y}<extra></extra>",
         "legendgroup": "Building Permit",
         "marker": {
          "color": "#EF553B",
          "pattern": {
           "shape": ""
          }
         },
         "name": "Building Permit",
         "orientation": "v",
         "showlegend": true,
         "textposition": "auto",
         "type": "bar",
         "x": [
          "Permits"
         ],
         "xaxis": "x",
         "y": {
          "bdata": "AAAAAACIs0A=",
          "dtype": "f8"
         },
         "yaxis": "y"
        }
       ],
       "layout": {
        "barmode": "relative",
        "legend": {
         "title": {
          "text": "Subcategory"
         },
         "tracegroupgap": 0
        },
        "template": {
         "data": {
          "bar": [
           {
            "error_x": {
             "color": "#2a3f5f"
            },
            "error_y": {
             "color": "#2a3f5f"
            },
            "marker": {
             "line": {
              "color": "#E5ECF6",
              "width": 0.5
             },
             "pattern": {
              "fillmode": "overlay",
              "size": 10,
              "solidity": 0.2
             }
            },
            "type": "bar"
           }
          ],
          "barpolar": [
           {
            "marker": {
             "line": {
              "color": "#E5ECF6",
              "width": 0.5
             },
             "pattern": {
              "fillmode": "overlay",
              "size": 10,
              "solidity": 0.2
             }
            },
            "type": "barpolar"
           }
          ],
          "carpet": [
           {
            "aaxis": {
             "endlinecolor": "#2a3f5f",
             "gridcolor": "white",
             "linecolor": "white",
             "minorgridcolor": "white",
             "startlinecolor": "#2a3f5f"
            },
            "baxis": {
             "endlinecolor": "#2a3f5f",
             "gridcolor": "white",
             "linecolor": "white",
             "minorgridcolor": "white",
             "startlinecolor": "#2a3f5f"
            },
            "type": "carpet"
           }
          ],
          "choropleth": [
           {
            "colorbar": {
             "outlinewidth": 0,
             "ticks": ""
            },
            "type": "choropleth"
           }
          ],
          "contour": [
           {
            "colorbar": {
             "outlinewidth": 0,
             "ticks": ""
            },
            "colorscale": [
             [
              0,
              "#0d0887"
             ],
             [
              0.1111111111111111,
              "#46039f"
             ],
             [
              0.2222222222222222,
              "#7201a8"
             ],
             [
              0.3333333333333333,
              "#9c179e"
             ],
             [
              0.4444444444444444,
              "#bd3786"
             ],
             [
              0.5555555555555556,
              "#d8576b"
             ],
             [
              0.6666666666666666,
              "#ed7953"
             ],
             [
              0.7777777777777778,
              "#fb9f3a"
             ],
             [
              0.8888888888888888,
              "#fdca26"
             ],
             [
              1,
              "#f0f921"
             ]
            ],
            "type": "contour"
           }
          ],
          "contourcarpet": [
           {
            "colorbar": {
             "outlinewidth": 0,
             "ticks": ""
            },
            "type": "contourcarpet"
           }
          ],
          "heatmap": [
           {
            "colorbar": {
             "outlinewidth": 0,
             "ticks": ""
            },
            "colorscale": [
             [
              0,
              "#0d0887"
             ],
             [
              0.1111111111111111,
              "#46039f"
             ],
             [
              0.2222222222222222,
              "#7201a8"
             ],
             [
              0.3333333333333333,
              "#9c179e"
             ],
             [
              0.4444444444444444,
              "#bd3786"
             ],
             [
              0.5555555555555556,
              "#d8576b"
             ],
             [
              0.6666666666666666,
              "#ed7953"
             ],
             [
              0.7777777777777778,
              "#fb9f3a"
             ],
             [
              0.8888888888888888,
              "#fdca26"
             ],
             [
              1,
              "#f0f921"
             ]
            ],
            "type": "heatmap"
           }
          ],
          "histogram": [
           {
            "marker": {
             "pattern": {
              "fillmode": "overlay",
              "size": 10,
              "solidity": 0.2
             }
            },
            "type": "histogram"
           }
          ],
          "histogram2d": [
           {
            "colorbar": {
             "outlinewidth": 0,
             "ticks": ""
            },
            "colorscale": [
             [
              0,
              "#0d0887"
             ],
             [
              0.1111111111111111,
              "#46039f"
             ],
             [
              0.2222222222222222,
              "#7201a8"
             ],
             [
              0.3333333333333333,
              "#9c179e"
             ],
             [
              0.4444444444444444,
              "#bd3786"
             ],
             [
              0.5555555555555556,
              "#d8576b"
             ],
             [
              0.6666666666666666,
              "#ed7953"
             ],
             [
              0.7777777777777778,
              "#fb9f3a"
             ],
             [
              0.8888888888888888,
              "#fdca26"
             ],
             [
              1,
              "#f0f921"
             ]
            ],
            "type": "histogram2d"
           }
          ],
          "histogram2dcontour": [
           {
            "colorbar": {
             "outlinewidth": 0,
             "ticks": ""
            },
            "colorscale": [
             [
              0,
              "#0d0887"
             ],
             [
              0.1111111111111111,
              "#46039f"
             ],
             [
              0.2222222222222222,
              "#7201a8"
             ],
             [
              0.3333333333333333,
              "#9c179e"
             ],
             [
              0.4444444444444444,
              "#bd3786"
             ],
             [
              0.5555555555555556,
              "#d8576b"
             ],
             [
              0.6666666666666666,
              "#ed7953"
             ],
             [
              0.7777777777777778,
              "#fb9f3a"
             ],
             [
              0.8888888888888888,
              "#fdca26"
             ],
             [
              1,
              "#f0f921"
             ]
            ],
            "type": "histogram2dcontour"
           }
          ],
          "mesh3d": [
           {
            "colorbar": {
             "outlinewidth": 0,
             "ticks": ""
            },
            "type": "mesh3d"
           }
          ],
          "parcoords": [
           {
            "line": {
             "colorbar": {
              "outlinewidth": 0,
              "ticks": ""
             }
            },
            "type": "parcoords"
           }
          ],
          "pie": [
           {
            "automargin": true,
            "type": "pie"
           }
          ],
          "scatter": [
           {
            "fillpattern": {
             "fillmode": "overlay",
             "size": 10,
             "solidity": 0.2
            },
            "type": "scatter"
           }
          ],
          "scatter3d": [
           {
            "line": {
             "colorbar": {
              "outlinewidth": 0,
              "ticks": ""
             }
            },
            "marker": {
             "colorbar": {
              "outlinewidth": 0,
              "ticks": ""
             }
            },
            "type": "scatter3d"
           }
          ],
          "scattercarpet": [
           {
            "marker": {
             "colorbar": {
              "outlinewidth": 0,
              "ticks": ""
             }
            },
            "type": "scattercarpet"
           }
          ],
          "scattergeo": [
           {
            "marker": {
             "colorbar": {
              "outlinewidth": 0,
              "ticks": ""
             }
            },
            "type": "scattergeo"
           }
          ],
          "scattergl": [
           {
            "marker": {
             "colorbar": {
              "outlinewidth": 0,
              "ticks": ""
             }
            },
            "type": "scattergl"
           }
          ],
          "scattermap": [
           {
            "marker": {
             "colorbar": {
              "outlinewidth": 0,
              "ticks": ""
             }
            },
            "type": "scattermap"
           }
          ],
          "scattermapbox": [
           {
            "marker": {
             "colorbar": {
              "outlinewidth": 0,
              "ticks": ""
             }
            },
            "type": "scattermapbox"
           }
          ],
          "scatterpolar": [
           {
            "marker": {
             "colorbar": {
              "outlinewidth": 0,
              "ticks": ""
             }
            },
            "type": "scatterpolar"
           }
          ],
          "scatterpolargl": [
           {
            "marker": {
             "colorbar": {
              "outlinewidth": 0,
              "ticks": ""
             }
            },
            "type": "scatterpolargl"
           }
          ],
          "scatterternary": [
           {
            "marker": {
             "colorbar": {
              "outlinewidth": 0,
              "ticks": ""
             }
            },
            "type": "scatterternary"
           }
          ],
          "surface": [
           {
            "colorbar": {
             "outlinewidth": 0,
             "ticks": ""
            },
            "colorscale": [
             [
              0,
              "#0d0887"
             ],
             [
              0.1111111111111111,
              "#46039f"
             ],
             [
              0.2222222222222222,
              "#7201a8"
             ],
             [
              0.3333333333333333,
              "#9c179e"
             ],
             [
              0.4444444444444444,
              "#bd3786"
             ],
             [
              0.5555555555555556,
              "#d8576b"
             ],
             [
              0.6666666666666666,
              "#ed7953"
             ],
             [
              0.7777777777777778,
              "#fb9f3a"
             ],
             [
              0.8888888888888888,
              "#fdca26"
             ],
             [
              1,
              "#f0f921"
             ]
            ],
            "type": "surface"
           }
          ],
          "table": [
           {
            "cells": {
             "fill": {
              "color": "#EBF0F8"
             },
             "line": {
              "color": "white"
             }
            },
            "header": {
             "fill": {
              "color": "#C8D4E3"
             },
             "line": {
              "color": "white"
             }
            },
            "type": "table"
           }
          ]
         },
         "layout": {
          "annotationdefaults": {
           "arrowcolor": "#2a3f5f",
           "arrowhead": 0,
           "arrowwidth": 1
          },
          "autotypenumbers": "strict",
          "coloraxis": {
           "colorbar": {
            "outlinewidth": 0,
            "ticks": ""
           }
          },
          "colorscale": {
           "diverging": [
            [
             0,
             "#8e0152"
            ],
            [
             0.1,
             "#c51b7d"
            ],
            [
             0.2,
             "#de77ae"
            ],
            [
             0.3,
             "#f1b6da"
            ],
            [
             0.4,
             "#fde0ef"
            ],
            [
             0.5,
             "#f7f7f7"
            ],
            [
             0.6,
             "#e6f5d0"
            ],
            [
             0.7,
             "#b8e186"
            ],
            [
             0.8,
             "#7fbc41"
            ],
            [
             0.9,
             "#4d9221"
            ],
            [
             1,
             "#276419"
            ]
           ],
           "sequential": [
            [
             0,
             "#0d0887"
            ],
            [
             0.1111111111111111,
             "#46039f"
            ],
            [
             0.2222222222222222,
             "#7201a8"
            ],
            [
             0.3333333333333333,
             "#9c179e"
            ],
            [
             0.4444444444444444,
             "#bd3786"
            ],
            [
             0.5555555555555556,
             "#d8576b"
            ],
            [
             0.6666666666666666,
             "#ed7953"
            ],
            [
             0.7777777777777778,
             "#fb9f3a"
            ],
            [
             0.8888888888888888,
             "#fdca26"
            ],
            [
             1,
             "#f0f921"
            ]
           ],
           "sequentialminus": [
            [
             0,
             "#0d0887"
            ],
            [
             0.1111111111111111,
             "#46039f"
            ],
            [
             0.2222222222222222,
             "#7201a8"
            ],
            [
             0.3333333333333333,
             "#9c179e"
            ],
            [
             0.4444444444444444,
             "#bd3786"
            ],
            [
             0.5555555555555556,
             "#d8576b"
            ],
            [
             0.6666666666666666,
             "#ed7953"
            ],
            [
             0.7777777777777778,
             "#fb9f3a"
            ],
            [
             0.8888888888888888,
             "#fdca26"
            ],
            [
             1,
             "#f0f921"
            ]
           ]
          },
          "colorway": [
           "#636efa",
           "#EF553B",
           "#00cc96",
           "#ab63fa",
           "#FFA15A",
           "#19d3f3",
           "#FF6692",
           "#B6E880",
           "#FF97FF",
           "#FECB52"
          ],
          "font": {
           "color": "#2a3f5f"
          },
          "geo": {
           "bgcolor": "white",
           "lakecolor": "white",
           "landcolor": "#E5ECF6",
           "showlakes": true,
           "showland": true,
           "subunitcolor": "white"
          },
          "hoverlabel": {
           "align": "left"
          },
          "hovermode": "closest",
          "mapbox": {
           "style": "light"
          },
          "paper_bgcolor": "white",
          "plot_bgcolor": "#E5ECF6",
          "polar": {
           "angularaxis": {
            "gridcolor": "white",
            "linecolor": "white",
            "ticks": ""
           },
           "bgcolor": "#E5ECF6",
           "radialaxis": {
            "gridcolor": "white",
            "linecolor": "white",
            "ticks": ""
           }
          },
          "scene": {
           "xaxis": {
            "backgroundcolor": "#E5ECF6",
            "gridcolor": "white",
            "gridwidth": 2,
            "linecolor": "white",
            "showbackground": true,
            "ticks": "",
            "zerolinecolor": "white"
           },
           "yaxis": {
            "backgroundcolor": "#E5ECF6",
            "gridcolor": "white",
            "gridwidth": 2,
            "linecolor": "white",
            "showbackground": true,
            "ticks": "",
            "zerolinecolor": "white"
           },
           "zaxis": {
            "backgroundcolor": "#E5ECF6",
            "gridcolor": "white",
            "gridwidth": 2,
            "linecolor": "white",
            "showbackground": true,
            "ticks": "",
            "zerolinecolor": "white"
           }
          },
          "shapedefaults": {
           "line": {
            "color": "#2a3f5f"
           }
          },
          "ternary": {
           "aaxis": {
            "gridcolor": "white",
            "linecolor": "white",
            "ticks": ""
           },
           "baxis": {
            "gridcolor": "white",
            "linecolor": "white",
            "ticks": ""
           },
           "bgcolor": "#E5ECF6",
           "caxis": {
            "gridcolor": "white",
            "linecolor": "white",
            "ticks": ""
           }
          },
          "title": {
           "x": 0.05
          },
          "xaxis": {
           "automargin": true,
           "gridcolor": "white",
           "linecolor": "white",
           "ticks": "",
           "title": {
            "standoff": 15
           },
           "zerolinecolor": "white",
           "zerolinewidth": 2
          },
          "yaxis": {
           "automargin": true,
           "gridcolor": "white",
           "linecolor": "white",
           "ticks": "",
           "title": {
            "standoff": 15
           },
           "zerolinecolor": "white",
           "zerolinewidth": 2
          }
         }
        },
        "title": {
         "text": "Expenses by Category and Subcategory"
        },
        "xaxis": {
         "anchor": "y",
         "domain": [
          0,
          1
         ],
         "title": {
          "text": "Category"
         }
        },
        "yaxis": {
         "anchor": "x",
         "domain": [
          0,
          1
         ],
         "title": {
          "text": "Amount"
         }
        }
       }
      }
     },
     "metadata": {},
     "output_type": "display_data"
    },
    {
     "name": "stderr",
     "output_type": "stream",
     "text": [
      "C:\\Users\\peruguyadav\\AppData\\Local\\Temp\\ipykernel_22624\\1366325746.py:51: FutureWarning:\n",
      "\n",
      "'M' is deprecated and will be removed in a future version, please use 'ME' instead.\n",
      "\n"
     ]
    },
    {
     "data": {
      "application/vnd.plotly.v1+json": {
       "config": {
        "plotlyServerURL": "https://plot.ly"
       },
       "data": [
        {
         "hovertemplate": "Date=%{x}<br>Amount=%{y}<extra></extra>",
         "legendgroup": "",
         "line": {
          "color": "#636efa",
          "dash": "solid"
         },
         "marker": {
          "symbol": "circle"
         },
         "mode": "lines",
         "name": "",
         "orientation": "v",
         "showlegend": false,
         "type": "scatter",
         "x": [
          "2025-06-30T00:00:00.000000000"
         ],
         "xaxis": "x",
         "y": {
          "bdata": "AAAAAAAX4UA=",
          "dtype": "f8"
         },
         "yaxis": "y"
        }
       ],
       "layout": {
        "legend": {
         "tracegroupgap": 0
        },
        "template": {
         "data": {
          "bar": [
           {
            "error_x": {
             "color": "#2a3f5f"
            },
            "error_y": {
             "color": "#2a3f5f"
            },
            "marker": {
             "line": {
              "color": "#E5ECF6",
              "width": 0.5
             },
             "pattern": {
              "fillmode": "overlay",
              "size": 10,
              "solidity": 0.2
             }
            },
            "type": "bar"
           }
          ],
          "barpolar": [
           {
            "marker": {
             "line": {
              "color": "#E5ECF6",
              "width": 0.5
             },
             "pattern": {
              "fillmode": "overlay",
              "size": 10,
              "solidity": 0.2
             }
            },
            "type": "barpolar"
           }
          ],
          "carpet": [
           {
            "aaxis": {
             "endlinecolor": "#2a3f5f",
             "gridcolor": "white",
             "linecolor": "white",
             "minorgridcolor": "white",
             "startlinecolor": "#2a3f5f"
            },
            "baxis": {
             "endlinecolor": "#2a3f5f",
             "gridcolor": "white",
             "linecolor": "white",
             "minorgridcolor": "white",
             "startlinecolor": "#2a3f5f"
            },
            "type": "carpet"
           }
          ],
          "choropleth": [
           {
            "colorbar": {
             "outlinewidth": 0,
             "ticks": ""
            },
            "type": "choropleth"
           }
          ],
          "contour": [
           {
            "colorbar": {
             "outlinewidth": 0,
             "ticks": ""
            },
            "colorscale": [
             [
              0,
              "#0d0887"
             ],
             [
              0.1111111111111111,
              "#46039f"
             ],
             [
              0.2222222222222222,
              "#7201a8"
             ],
             [
              0.3333333333333333,
              "#9c179e"
             ],
             [
              0.4444444444444444,
              "#bd3786"
             ],
             [
              0.5555555555555556,
              "#d8576b"
             ],
             [
              0.6666666666666666,
              "#ed7953"
             ],
             [
              0.7777777777777778,
              "#fb9f3a"
             ],
             [
              0.8888888888888888,
              "#fdca26"
             ],
             [
              1,
              "#f0f921"
             ]
            ],
            "type": "contour"
           }
          ],
          "contourcarpet": [
           {
            "colorbar": {
             "outlinewidth": 0,
             "ticks": ""
            },
            "type": "contourcarpet"
           }
          ],
          "heatmap": [
           {
            "colorbar": {
             "outlinewidth": 0,
             "ticks": ""
            },
            "colorscale": [
             [
              0,
              "#0d0887"
             ],
             [
              0.1111111111111111,
              "#46039f"
             ],
             [
              0.2222222222222222,
              "#7201a8"
             ],
             [
              0.3333333333333333,
              "#9c179e"
             ],
             [
              0.4444444444444444,
              "#bd3786"
             ],
             [
              0.5555555555555556,
              "#d8576b"
             ],
             [
              0.6666666666666666,
              "#ed7953"
             ],
             [
              0.7777777777777778,
              "#fb9f3a"
             ],
             [
              0.8888888888888888,
              "#fdca26"
             ],
             [
              1,
              "#f0f921"
             ]
            ],
            "type": "heatmap"
           }
          ],
          "histogram": [
           {
            "marker": {
             "pattern": {
              "fillmode": "overlay",
              "size": 10,
              "solidity": 0.2
             }
            },
            "type": "histogram"
           }
          ],
          "histogram2d": [
           {
            "colorbar": {
             "outlinewidth": 0,
             "ticks": ""
            },
            "colorscale": [
             [
              0,
              "#0d0887"
             ],
             [
              0.1111111111111111,
              "#46039f"
             ],
             [
              0.2222222222222222,
              "#7201a8"
             ],
             [
              0.3333333333333333,
              "#9c179e"
             ],
             [
              0.4444444444444444,
              "#bd3786"
             ],
             [
              0.5555555555555556,
              "#d8576b"
             ],
             [
              0.6666666666666666,
              "#ed7953"
             ],
             [
              0.7777777777777778,
              "#fb9f3a"
             ],
             [
              0.8888888888888888,
              "#fdca26"
             ],
             [
              1,
              "#f0f921"
             ]
            ],
            "type": "histogram2d"
           }
          ],
          "histogram2dcontour": [
           {
            "colorbar": {
             "outlinewidth": 0,
             "ticks": ""
            },
            "colorscale": [
             [
              0,
              "#0d0887"
             ],
             [
              0.1111111111111111,
              "#46039f"
             ],
             [
              0.2222222222222222,
              "#7201a8"
             ],
             [
              0.3333333333333333,
              "#9c179e"
             ],
             [
              0.4444444444444444,
              "#bd3786"
             ],
             [
              0.5555555555555556,
              "#d8576b"
             ],
             [
              0.6666666666666666,
              "#ed7953"
             ],
             [
              0.7777777777777778,
              "#fb9f3a"
             ],
             [
              0.8888888888888888,
              "#fdca26"
             ],
             [
              1,
              "#f0f921"
             ]
            ],
            "type": "histogram2dcontour"
           }
          ],
          "mesh3d": [
           {
            "colorbar": {
             "outlinewidth": 0,
             "ticks": ""
            },
            "type": "mesh3d"
           }
          ],
          "parcoords": [
           {
            "line": {
             "colorbar": {
              "outlinewidth": 0,
              "ticks": ""
             }
            },
            "type": "parcoords"
           }
          ],
          "pie": [
           {
            "automargin": true,
            "type": "pie"
           }
          ],
          "scatter": [
           {
            "fillpattern": {
             "fillmode": "overlay",
             "size": 10,
             "solidity": 0.2
            },
            "type": "scatter"
           }
          ],
          "scatter3d": [
           {
            "line": {
             "colorbar": {
              "outlinewidth": 0,
              "ticks": ""
             }
            },
            "marker": {
             "colorbar": {
              "outlinewidth": 0,
              "ticks": ""
             }
            },
            "type": "scatter3d"
           }
          ],
          "scattercarpet": [
           {
            "marker": {
             "colorbar": {
              "outlinewidth": 0,
              "ticks": ""
             }
            },
            "type": "scattercarpet"
           }
          ],
          "scattergeo": [
           {
            "marker": {
             "colorbar": {
              "outlinewidth": 0,
              "ticks": ""
             }
            },
            "type": "scattergeo"
           }
          ],
          "scattergl": [
           {
            "marker": {
             "colorbar": {
              "outlinewidth": 0,
              "ticks": ""
             }
            },
            "type": "scattergl"
           }
          ],
          "scattermap": [
           {
            "marker": {
             "colorbar": {
              "outlinewidth": 0,
              "ticks": ""
             }
            },
            "type": "scattermap"
           }
          ],
          "scattermapbox": [
           {
            "marker": {
             "colorbar": {
              "outlinewidth": 0,
              "ticks": ""
             }
            },
            "type": "scattermapbox"
           }
          ],
          "scatterpolar": [
           {
            "marker": {
             "colorbar": {
              "outlinewidth": 0,
              "ticks": ""
             }
            },
            "type": "scatterpolar"
           }
          ],
          "scatterpolargl": [
           {
            "marker": {
             "colorbar": {
              "outlinewidth": 0,
              "ticks": ""
             }
            },
            "type": "scatterpolargl"
           }
          ],
          "scatterternary": [
           {
            "marker": {
             "colorbar": {
              "outlinewidth": 0,
              "ticks": ""
             }
            },
            "type": "scatterternary"
           }
          ],
          "surface": [
           {
            "colorbar": {
             "outlinewidth": 0,
             "ticks": ""
            },
            "colorscale": [
             [
              0,
              "#0d0887"
             ],
             [
              0.1111111111111111,
              "#46039f"
             ],
             [
              0.2222222222222222,
              "#7201a8"
             ],
             [
              0.3333333333333333,
              "#9c179e"
             ],
             [
              0.4444444444444444,
              "#bd3786"
             ],
             [
              0.5555555555555556,
              "#d8576b"
             ],
             [
              0.6666666666666666,
              "#ed7953"
             ],
             [
              0.7777777777777778,
              "#fb9f3a"
             ],
             [
              0.8888888888888888,
              "#fdca26"
             ],
             [
              1,
              "#f0f921"
             ]
            ],
            "type": "surface"
           }
          ],
          "table": [
           {
            "cells": {
             "fill": {
              "color": "#EBF0F8"
             },
             "line": {
              "color": "white"
             }
            },
            "header": {
             "fill": {
              "color": "#C8D4E3"
             },
             "line": {
              "color": "white"
             }
            },
            "type": "table"
           }
          ]
         },
         "layout": {
          "annotationdefaults": {
           "arrowcolor": "#2a3f5f",
           "arrowhead": 0,
           "arrowwidth": 1
          },
          "autotypenumbers": "strict",
          "coloraxis": {
           "colorbar": {
            "outlinewidth": 0,
            "ticks": ""
           }
          },
          "colorscale": {
           "diverging": [
            [
             0,
             "#8e0152"
            ],
            [
             0.1,
             "#c51b7d"
            ],
            [
             0.2,
             "#de77ae"
            ],
            [
             0.3,
             "#f1b6da"
            ],
            [
             0.4,
             "#fde0ef"
            ],
            [
             0.5,
             "#f7f7f7"
            ],
            [
             0.6,
             "#e6f5d0"
            ],
            [
             0.7,
             "#b8e186"
            ],
            [
             0.8,
             "#7fbc41"
            ],
            [
             0.9,
             "#4d9221"
            ],
            [
             1,
             "#276419"
            ]
           ],
           "sequential": [
            [
             0,
             "#0d0887"
            ],
            [
             0.1111111111111111,
             "#46039f"
            ],
            [
             0.2222222222222222,
             "#7201a8"
            ],
            [
             0.3333333333333333,
             "#9c179e"
            ],
            [
             0.4444444444444444,
             "#bd3786"
            ],
            [
             0.5555555555555556,
             "#d8576b"
            ],
            [
             0.6666666666666666,
             "#ed7953"
            ],
            [
             0.7777777777777778,
             "#fb9f3a"
            ],
            [
             0.8888888888888888,
             "#fdca26"
            ],
            [
             1,
             "#f0f921"
            ]
           ],
           "sequentialminus": [
            [
             0,
             "#0d0887"
            ],
            [
             0.1111111111111111,
             "#46039f"
            ],
            [
             0.2222222222222222,
             "#7201a8"
            ],
            [
             0.3333333333333333,
             "#9c179e"
            ],
            [
             0.4444444444444444,
             "#bd3786"
            ],
            [
             0.5555555555555556,
             "#d8576b"
            ],
            [
             0.6666666666666666,
             "#ed7953"
            ],
            [
             0.7777777777777778,
             "#fb9f3a"
            ],
            [
             0.8888888888888888,
             "#fdca26"
            ],
            [
             1,
             "#f0f921"
            ]
           ]
          },
          "colorway": [
           "#636efa",
           "#EF553B",
           "#00cc96",
           "#ab63fa",
           "#FFA15A",
           "#19d3f3",
           "#FF6692",
           "#B6E880",
           "#FF97FF",
           "#FECB52"
          ],
          "font": {
           "color": "#2a3f5f"
          },
          "geo": {
           "bgcolor": "white",
           "lakecolor": "white",
           "landcolor": "#E5ECF6",
           "showlakes": true,
           "showland": true,
           "subunitcolor": "white"
          },
          "hoverlabel": {
           "align": "left"
          },
          "hovermode": "closest",
          "mapbox": {
           "style": "light"
          },
          "paper_bgcolor": "white",
          "plot_bgcolor": "#E5ECF6",
          "polar": {
           "angularaxis": {
            "gridcolor": "white",
            "linecolor": "white",
            "ticks": ""
           },
           "bgcolor": "#E5ECF6",
           "radialaxis": {
            "gridcolor": "white",
            "linecolor": "white",
            "ticks": ""
           }
          },
          "scene": {
           "xaxis": {
            "backgroundcolor": "#E5ECF6",
            "gridcolor": "white",
            "gridwidth": 2,
            "linecolor": "white",
            "showbackground": true,
            "ticks": "",
            "zerolinecolor": "white"
           },
           "yaxis": {
            "backgroundcolor": "#E5ECF6",
            "gridcolor": "white",
            "gridwidth": 2,
            "linecolor": "white",
            "showbackground": true,
            "ticks": "",
            "zerolinecolor": "white"
           },
           "zaxis": {
            "backgroundcolor": "#E5ECF6",
            "gridcolor": "white",
            "gridwidth": 2,
            "linecolor": "white",
            "showbackground": true,
            "ticks": "",
            "zerolinecolor": "white"
           }
          },
          "shapedefaults": {
           "line": {
            "color": "#2a3f5f"
           }
          },
          "ternary": {
           "aaxis": {
            "gridcolor": "white",
            "linecolor": "white",
            "ticks": ""
           },
           "baxis": {
            "gridcolor": "white",
            "linecolor": "white",
            "ticks": ""
           },
           "bgcolor": "#E5ECF6",
           "caxis": {
            "gridcolor": "white",
            "linecolor": "white",
            "ticks": ""
           }
          },
          "title": {
           "x": 0.05
          },
          "xaxis": {
           "automargin": true,
           "gridcolor": "white",
           "linecolor": "white",
           "ticks": "",
           "title": {
            "standoff": 15
           },
           "zerolinecolor": "white",
           "zerolinewidth": 2
          },
          "yaxis": {
           "automargin": true,
           "gridcolor": "white",
           "linecolor": "white",
           "ticks": "",
           "title": {
            "standoff": 15
           },
           "zerolinecolor": "white",
           "zerolinewidth": 2
          }
         }
        },
        "title": {
         "text": "Monthly Expense Trend"
        },
        "xaxis": {
         "anchor": "y",
         "domain": [
          0,
          1
         ],
         "title": {
          "text": "Date"
         }
        },
        "yaxis": {
         "anchor": "x",
         "domain": [
          0,
          1
         ],
         "title": {
          "text": "Amount"
         }
        }
       }
      }
     },
     "metadata": {},
     "output_type": "display_data"
    },
    {
     "name": "stdout",
     "output_type": "stream",
     "text": [
      "\n",
      "MONTHLY EXPENSE REPORT - June 2025\n",
      "==================================================\n",
      "\n",
      "Total Expenses This Month: $35,000.00\n",
      "\n",
      "Expenses by Category:\n",
      "Foundation: $30,000.00 (85.7%)\n",
      "Permits: $5,000.00 (14.3%)\n",
      "\n",
      "Detailed Expense List:\n",
      "----------------------------------------------------------------------------------------------------\n",
      "Date: 2025-06-01\n",
      "Category: Foundation - Concrete\n",
      "Description: Initial foundation concrete work\n",
      "Amount: $15,000.00\n",
      "Payment Method: Bank Transfer\n",
      "Receipt Reference: FOUND001\n",
      "----------------------------------------------------------------------------------------------------\n",
      "Date: 2025-06-01\n",
      "Category: Permits - Building Permit\n",
      "Description: Building permit application fee\n",
      "Amount: $2,500.00\n",
      "Payment Method: Credit Card\n",
      "Receipt Reference: PERM001\n",
      "----------------------------------------------------------------------------------------------------\n",
      "Date: 2025-06-01\n",
      "Category: Foundation - Concrete\n",
      "Description: Initial foundation concrete work\n",
      "Amount: $15,000.00\n",
      "Payment Method: Bank Transfer\n",
      "Receipt Reference: FOUND001\n",
      "----------------------------------------------------------------------------------------------------\n",
      "Date: 2025-06-01\n",
      "Category: Permits - Building Permit\n",
      "Description: Building permit application fee\n",
      "Amount: $2,500.00\n",
      "Payment Method: Credit Card\n",
      "Receipt Reference: PERM001\n",
      "----------------------------------------------------------------------------------------------------\n"
     ]
    }
   ],
   "source": [
    "# Example 1: Adding a new expense\n",
    "add_expense(\n",
    "    date=\"2025-06-01\",\n",
    "    category=\"Foundation\",\n",
    "    subcategory=\"Concrete\",\n",
    "    description=\"Initial foundation concrete work\",\n",
    "    amount=15000,\n",
    "    payment_method=\"Bank Transfer\",\n",
    "    receipt_reference=\"FOUND001\"\n",
    ")\n",
    "\n",
    "# Example 2: Adding another expense\n",
    "add_expense(\n",
    "    date=\"2025-06-01\",\n",
    "    category=\"Permits\",\n",
    "    subcategory=\"Building Permit\",\n",
    "    description=\"Building permit application fee\",\n",
    "    amount=2500,\n",
    "    payment_method=\"Credit Card\",\n",
    "    receipt_reference=\"PERM001\"\n",
    ")\n",
    "\n",
    "# Continue adding the remaining expenses\n",
    "remaining_expenses = [\n",
    "    {\n",
    "        'date': '2025-04-01',\n",
    "        'category': 'Transportation',\n",
    "        'subcategory': 'Permits',\n",
    "        'description': 'Check post fees',\n",
    "        'amount': 600,\n",
    "        'note': 'check post cost'\n",
    "    },\n",
    "    {\n",
    "        'date': '2025-04-01',\n",
    "        'category': 'Transportation',\n",
    "        'subcategory': 'Permits',\n",
    "        'description': 'Transportation permit',\n",
    "        'amount': 2600,\n",
    "        'note': 'Permit for transportation of teak'\n",
    "    },\n",
    "    {\n",
    "        'date': '2025-04-01',\n",
    "        'category': 'Transportation',\n",
    "        'subcategory': 'Personal Transport',\n",
    "        'description': 'Travel expenses',\n",
    "        'amount': 500,\n",
    "        'note': 'General transportation to pormamilla'\n",
    "    },\n",
    "    {\n",
    "        'date': '2025-04-01',\n",
    "        'category': 'Planning',\n",
    "        'subcategory': 'Other Expenses',\n",
    "        'description': 'Poojari fees',\n",
    "        'amount': 500,\n",
    "        'note': 'Given to Poojari'\n",
    "    },\n",
    "    # Adding all remaining entries\n",
    "    {\n",
    "        'date': '2025-04-13',\n",
    "        'category': 'Construction',\n",
    "        'subcategory': 'Coolie',\n",
    "        'description': 'Construction labor advance',\n",
    "        'amount': 10000,\n",
    "        'note': 'Advance for the Coolie, construction'\n",
    "    }\n",
    "]\n",
    "\n",
    "# Add more entries following the same pattern...\n",
    "\n",
    "# Add these expenses to the dataset\n",
    "expenses_data.extend(remaining_expenses)\n",
    "\n",
    "# Bulk add all expenses\n",
    "bulk_add_expenses(expenses_data)\n",
    "\n",
    "# Run analysis and generate reports\n",
    "print(\"\\nGenerating expense analysis...\")\n",
    "analyze_expenses()\n",
    "\n",
    "print(\"\\nCreating visualizations...\")\n",
    "visualize_expenses()\n",
    "\n",
    "print(\"\\nGenerating monthly report...\")\n",
    "generate_monthly_report()"
   ]
  },
  {
   "cell_type": "code",
   "execution_count": null,
   "id": "8905139c",
   "metadata": {},
   "outputs": [],
   "source": [
    "# Add the remaining expenses\n",
    "final_expenses = [\n",
    "    {\n",
    "        'date': '2025-04-21',\n",
    "        'category': 'Building Plan Approval',\n",
    "        'subcategory': 'Property Tax',\n",
    "        'description': 'Property tax payment',\n",
    "        'amount': 8197,\n",
    "        'note': 'property tax'\n",
    "    },\n",
    "    {\n",
    "        'date': '2025-04-23',\n",
    "        'category': 'Initial Setup',\n",
    "        'subcategory': 'Basic Things',\n",
    "        'description': 'Utility connections',\n",
    "        'amount': 1000,\n",
    "        'note': 'Electrical & water connections'\n",
    "    },\n",
    "    {\n",
    "        'date': '2025-04-26',\n",
    "        'category': 'Building Material',\n",
    "        'subcategory': 'RR Stones',\n",
    "        'description': 'Stone purchase',\n",
    "        'amount': 4000,\n",
    "        'note': '1 tractor'\n",
    "    },\n",
    "    {\n",
    "        'date': '2025-04-26',\n",
    "        'category': 'Initial Setup',\n",
    "        'subcategory': 'Construction Equipment',\n",
    "        'description': 'Construction tools',\n",
    "        'amount': 2700,\n",
    "        'note': 'bought 10 tubs, 2 paralu'\n",
    "    },\n",
    "    {\n",
    "        'date': '2025-04-26',\n",
    "        'category': 'Pooja',\n",
    "        'subcategory': 'Bhumi Pooja',\n",
    "        'description': 'Pooja items',\n",
    "        'amount': 1530,\n",
    "        'note': 'vastralu'\n",
    "    },\n",
    "    {\n",
    "        'date': '2025-04-09',\n",
    "        'category': 'Doors & Windows',\n",
    "        'subcategory': 'Carpenter',\n",
    "        'description': 'Carpenter advance',\n",
    "        'amount': 4000,\n",
    "        'note': 'Advance for Aachari'\n",
    "    },\n",
    "    # Add all remaining entries following this pattern...\n",
    "    {\n",
    "        'date': '2025-05-21',\n",
    "        'category': 'Construction',\n",
    "        'subcategory': 'Bricks',\n",
    "        'description': 'Brick purchase',\n",
    "        'amount': 6000,\n",
    "        'note': 'fly ash bricks'\n",
    "    }\n",
    "]\n",
    "\n",
    "# Add these expenses to the dataset\n",
    "expenses_data.extend(final_expenses)\n",
    "\n",
    "# Bulk add all expenses\n",
    "bulk_add_expenses(expenses_data)\n",
    "\n",
    "# Run final analysis\n",
    "print(\"\\nFinal Expense Analysis\")\n",
    "print(\"=\" * 50)\n",
    "analyze_expenses()\n",
    "visualize_expenses()\n",
    "generate_monthly_report()"
   ]
  },
  {
   "cell_type": "code",
   "execution_count": null,
   "id": "d1c71d82",
   "metadata": {},
   "outputs": [],
   "source": [
    "# Add all remaining expenses\n",
    "complete_expenses = [\n",
    "    {\n",
    "        'date': '2025-04-28',\n",
    "        'category': 'Construction',\n",
    "        'subcategory': 'Coolie',\n",
    "        'description': 'First payment after marking',\n",
    "        'amount': 100000,\n",
    "        'payment_method': 'Cash',\n",
    "        'note': 'first payment to masthan, after marking'\n",
    "    },\n",
    "    {\n",
    "        'date': '2025-04-28',\n",
    "        'category': 'Pooja',\n",
    "        'subcategory': 'Bhumi Pooja',\n",
    "        'description': 'Pooja materials',\n",
    "        'amount': 3000,\n",
    "        'note': 'Bought things for Bhumi Pooja'\n",
    "    },\n",
    "    {\n",
    "        'date': '2025-04-29',\n",
    "        'category': 'Construction',\n",
    "        'subcategory': 'Ramapuram Kankara',\n",
    "        'description': 'Kankara before Bhumi Pooja',\n",
    "        'amount': 23200,\n",
    "        'note': '6 units kankara before bhumi pooja'\n",
    "    },\n",
    "    {\n",
    "        'date': '2025-05-06',\n",
    "        'category': 'Construction',\n",
    "        'subcategory': 'JCB',\n",
    "        'description': 'JCB work',\n",
    "        'amount': 16000,\n",
    "        'note': 'rent for JCB'\n",
    "    },\n",
    "    {\n",
    "        'date': '2025-05-01',\n",
    "        'category': 'Construction',\n",
    "        'subcategory': 'kankara',\n",
    "        'description': 'Kankara stones',\n",
    "        'amount': 4800,\n",
    "        'note': '1 tractor 40mm kankara'\n",
    "    },\n",
    "    # Add all the remaining transactions following this pattern\n",
    "    {\n",
    "        'date': '2025-05-29',\n",
    "        'category': 'Construction',\n",
    "        'subcategory': 'Iron',\n",
    "        'description': 'Iron payment',\n",
    "        'amount': 75000,\n",
    "        'payment_method': 'PhonePe',\n",
    "        'note': 'Iron ; phonepe'\n",
    "    },\n",
    "    {\n",
    "        'date': '2025-05-29',\n",
    "        'category': 'Construction',\n",
    "        'subcategory': 'Cement',\n",
    "        'description': 'Cement payment',\n",
    "        'amount': 20000,\n",
    "        'payment_method': 'PhonePe',\n",
    "        'note': 'cement; Phonepe'\n",
    "    }\n",
    "]\n",
    "\n",
    "# Add all expenses to the dataset\n",
    "expenses_data.extend(complete_expenses)\n",
    "\n",
    "# Final bulk addition of all expenses\n",
    "bulk_add_expenses(expenses_data)\n",
    "\n",
    "# Generate final reports\n",
    "print(\"\\nFinal Analysis with All Expenses\")\n",
    "print(\"=\" * 50)\n",
    "analyze_expenses()\n",
    "visualize_expenses()\n",
    "generate_monthly_report()"
   ]
  },
  {
   "cell_type": "markdown",
   "id": "ccc4055b",
   "metadata": {},
   "source": [
    "## 2. Define Expense Categories\n",
    "\n",
    "Let's set up the categories and subcategories for tracking house construction expenses."
   ]
  }
 ],
 "metadata": {
  "kernelspec": {
   "display_name": "Python 3",
   "language": "python",
   "name": "python3"
  },
  "language_info": {
   "codemirror_mode": {
    "name": "ipython",
    "version": 3
   },
   "file_extension": ".py",
   "mimetype": "text/x-python",
   "name": "python",
   "nbconvert_exporter": "python",
   "pygments_lexer": "ipython3",
   "version": "3.13.3"
  }
 },
 "nbformat": 4,
 "nbformat_minor": 5
}
